{
 "cells": [
  {
   "cell_type": "code",
   "execution_count": null,
   "id": "d8f34c84-a9af-411d-8559-fa397de1f48a",
   "metadata": {},
   "outputs": [],
   "source": [
    "import pandas as pd\n",
    "import numpy as np\n",
    "import ast\n",
    "from numpy import asarray\n",
    "\n",
    "from sklearn.feature_extraction.text import TfidfVectorizer"
   ]
  },
  {
   "cell_type": "code",
   "execution_count": null,
   "id": "7076c918-14b8-496a-8eaa-6be9299d155e",
   "metadata": {},
   "outputs": [],
   "source": []
  },
  {
   "cell_type": "code",
   "execution_count": null,
   "id": "58c9143f-2a2a-4e39-bbf0-36a2d3bc64c3",
   "metadata": {},
   "outputs": [],
   "source": [
    "movies_metadata = pd.read_csv(\"movies_nonnull.csv\")\n",
    "movies_metadata.head()"
   ]
  },
  {
   "cell_type": "code",
   "execution_count": null,
   "id": "d00d51ba-c1f6-48b8-84d6-c045a2d0a580",
   "metadata": {},
   "outputs": [],
   "source": [
    "movies_metadata.info()"
   ]
  },
  {
   "cell_type": "code",
   "execution_count": null,
   "id": "6cd9d1ab-c763-450b-aaaf-0477f166675e",
   "metadata": {},
   "outputs": [],
   "source": [
    "remove_feature = ['Unnamed: 0','adult','id','video']"
   ]
  },
  {
   "cell_type": "code",
   "execution_count": null,
   "id": "246457ca-7ada-48bf-ada2-874a8777e708",
   "metadata": {},
   "outputs": [],
   "source": [
    "keywords = pd.read_csv('D:/Ultimate USA/Data Science/Data analytics/Movie recommendation system/archive (4)/keywords.csv')\n",
    "keywords.head()"
   ]
  },
  {
   "cell_type": "code",
   "execution_count": null,
   "id": "78db356d-82f9-409d-a56a-9d40c449e2a0",
   "metadata": {},
   "outputs": [],
   "source": [
    "keywords.info()"
   ]
  },
  {
   "cell_type": "code",
   "execution_count": null,
   "id": "d001f5f0-1643-4e3e-8e5a-a1fa9582f320",
   "metadata": {},
   "outputs": [],
   "source": [
    "credits = pd.read_csv('D:/Ultimate USA/Data Science/Data analytics/Movie recommendation system/archive (4)/credits.csv')\n",
    "credits.head()"
   ]
  },
  {
   "cell_type": "code",
   "execution_count": null,
   "id": "48e6a47d-67a6-4303-967c-e969291983ee",
   "metadata": {},
   "outputs": [],
   "source": [
    "credits.info()"
   ]
  },
  {
   "cell_type": "code",
   "execution_count": null,
   "id": "2c396879-5e32-4449-85b9-9b3c8a53fb21",
   "metadata": {},
   "outputs": [],
   "source": [
    "merged_df = pd.merge(movies_metadata, keywords, on='id')\n",
    "merged_df.head()"
   ]
  },
  {
   "cell_type": "code",
   "execution_count": null,
   "id": "099fc6a9-69e6-4a46-a6aa-9637b7c840ab",
   "metadata": {},
   "outputs": [],
   "source": [
    "movies_df = pd.merge(merged_df, credits, on='id')"
   ]
  },
  {
   "cell_type": "code",
   "execution_count": null,
   "id": "fe05ea14-0470-4f90-84b9-31efba9dc237",
   "metadata": {},
   "outputs": [],
   "source": []
  },
  {
   "cell_type": "code",
   "execution_count": null,
   "id": "8a21bd86-f6e0-4a79-bf70-fdbbea1a5a0b",
   "metadata": {},
   "outputs": [],
   "source": [
    "movies_df = movies_df.iloc[:8000,:]"
   ]
  },
  {
   "cell_type": "code",
   "execution_count": null,
   "id": "5a378884-2d60-4005-9aae-9089a6803d09",
   "metadata": {},
   "outputs": [],
   "source": [
    "movies_df.drop(columns=['Unnamed: 0', 'adult', 'video'], inplace=True)"
   ]
  },
  {
   "cell_type": "code",
   "execution_count": null,
   "id": "5bd8d770-e4ab-47ff-b8d3-1c45add47d69",
   "metadata": {},
   "outputs": [],
   "source": [
    "movies_df = movies_df.set_index('id')"
   ]
  },
  {
   "cell_type": "code",
   "execution_count": null,
   "id": "5571fd89-4c10-41f9-8686-a2cc42306164",
   "metadata": {},
   "outputs": [],
   "source": [
    "(movies_df['revenue'] == 0.0).sum()"
   ]
  },
  {
   "cell_type": "code",
   "execution_count": null,
   "id": "7de9ee1a-f64e-416c-a4a0-8365b476943c",
   "metadata": {},
   "outputs": [],
   "source": [
    "(movies_df['budget'] == 0.0).sum()"
   ]
  },
  {
   "cell_type": "code",
   "execution_count": null,
   "id": "26a3fab4-1c54-49bf-82e8-4eb34812fdc4",
   "metadata": {},
   "outputs": [],
   "source": [
    "movies_df.drop(columns=['revenue', 'budget'], inplace=True)"
   ]
  },
  {
   "cell_type": "code",
   "execution_count": null,
   "id": "828b7399-94fc-4c4f-8ab6-296ec9762dfc",
   "metadata": {},
   "outputs": [],
   "source": [
    "(movies_df['vote_count'] == 0.0).sum()"
   ]
  },
  {
   "cell_type": "code",
   "execution_count": null,
   "id": "880176e6-1a03-49b3-a7a1-027db8461453",
   "metadata": {},
   "outputs": [],
   "source": [
    "movies_df.info()"
   ]
  },
  {
   "cell_type": "code",
   "execution_count": null,
   "id": "7bef0874-6ded-493d-86f3-ad74828ae2c5",
   "metadata": {},
   "outputs": [],
   "source": [
    "def extract_from_genre(x):\n",
    "        t = []\n",
    "        for j in ast.literal_eval(x):\n",
    "            try:\n",
    "                t.append(j['name'])\n",
    "            except:\n",
    "                pass\n",
    "        return t\n",
    "movies_df['genres'] = movies_df['genres'].apply(extract_from_genre)\n",
    "movies_df['genres']"
   ]
  },
  {
   "cell_type": "code",
   "execution_count": null,
   "id": "b4a89f4b-295c-48b8-b764-519de4bdcbf0",
   "metadata": {},
   "outputs": [],
   "source": []
  },
  {
   "cell_type": "code",
   "execution_count": null,
   "id": "c6f9b454-fbfe-4567-ae8c-842d1ffb278f",
   "metadata": {},
   "outputs": [],
   "source": [
    "def clean_lang(x):\n",
    "    \n",
    "    try:\n",
    "        float(x)\n",
    "        return 'Unknown'\n",
    "    except:\n",
    "        return x\n",
    "\n",
    "movies_df['original_language'] = movies_df['original_language'].apply(clean_lang)\n",
    "movies_df['original_language'].unique()"
   ]
  },
  {
   "cell_type": "code",
   "execution_count": null,
   "id": "f16f684d-d418-4abd-aaad-335e16c34894",
   "metadata": {},
   "outputs": [],
   "source": [
    "import hashlib\n",
    "hash_size = len(movies_df['original_language'].unique())  # number of hash values to use\n",
    "movies_df['original_language'] = movies_df['original_language'].apply(lambda x: int(hashlib.sha256(x.encode('utf-8')).hexdigest(), 16) % hash_size)"
   ]
  },
  {
   "cell_type": "code",
   "execution_count": null,
   "id": "7f997823-2d25-4387-b1e7-7a667b9d4e31",
   "metadata": {},
   "outputs": [],
   "source": [
    "movies_df['original_language'].unique()"
   ]
  },
  {
   "cell_type": "code",
   "execution_count": null,
   "id": "3c51cf9b-0630-4868-a4a6-aeeacfd18ce7",
   "metadata": {},
   "outputs": [],
   "source": [
    "def extract_from_original_title(x):\n",
    "    t = []\n",
    "    for i in x.split():\n",
    "        t.append(i)\n",
    "    \n",
    "    return t\n",
    "movies_df['original_title'] = movies_df['original_title'].apply(extract_from_original_title)\n",
    "movies_df['original_title']"
   ]
  },
  {
   "cell_type": "code",
   "execution_count": null,
   "id": "5393a2b8-49d6-4c9d-a445-1c40791221b2",
   "metadata": {},
   "outputs": [],
   "source": [
    "def extract_from_overview(x):\n",
    "    t = []\n",
    "    for i in x.split(\",\"):\n",
    "        for j in i.split():\n",
    "            t.append(j)\n",
    "    \n",
    "    return t\n",
    "movies_df['overview'] = movies_df['overview'].apply(extract_from_overview)\n",
    "movies_df['overview']"
   ]
  },
  {
   "cell_type": "code",
   "execution_count": null,
   "id": "fea4caa0-1961-481c-ae60-30d56ef93b36",
   "metadata": {},
   "outputs": [],
   "source": [
    "def extract_from_production_companies(x):\n",
    "        t = []\n",
    "        for j in ast.literal_eval(x):\n",
    "            try:\n",
    "                t.append(j['name'])\n",
    "            except:\n",
    "                pass\n",
    "        return t\n",
    "movies_df['production_companies'] = movies_df['production_companies'].apply(extract_from_production_companies)\n",
    "movies_df['production_companies']"
   ]
  },
  {
   "cell_type": "code",
   "execution_count": null,
   "id": "27364f60-7de7-47b5-8512-db81101f40a8",
   "metadata": {},
   "outputs": [],
   "source": [
    "def extract_from_production_countries(x):\n",
    "        t = []\n",
    "        for j in ast.literal_eval(x):\n",
    "            try:\n",
    "                t.append(j['name'])\n",
    "            except:\n",
    "                pass\n",
    "        return t\n",
    "movies_df['production_countries'] = movies_df['production_countries'].apply(extract_from_production_countries)\n",
    "movies_df['production_countries']"
   ]
  },
  {
   "cell_type": "code",
   "execution_count": null,
   "id": "ce2fb459-4d9d-4e1d-854b-a5b37d5075f1",
   "metadata": {},
   "outputs": [],
   "source": [
    "def extract_from_spoken_lan(x):\n",
    "        t = []\n",
    "        for j in ast.literal_eval(x):\n",
    "            try:\n",
    "                t.append(j['name'])\n",
    "            except:\n",
    "                pass\n",
    "        return t\n",
    "movies_df['spoken_languages'] = movies_df['spoken_languages'].apply(extract_from_spoken_lan)\n",
    "movies_df['spoken_languages']"
   ]
  },
  {
   "cell_type": "code",
   "execution_count": null,
   "id": "1d91f7a1-b240-458a-9ccc-eafb437aaf33",
   "metadata": {},
   "outputs": [],
   "source": [
    "\n"
   ]
  },
  {
   "cell_type": "code",
   "execution_count": null,
   "id": "d38c0fe0-dfd5-4fe0-ab38-fa642cca1d4d",
   "metadata": {},
   "outputs": [],
   "source": [
    "movies_df.join(pd.get_dummies(movies_df['status']))\n",
    "movies_df.drop(columns=['status'], inplace=True)"
   ]
  },
  {
   "cell_type": "code",
   "execution_count": null,
   "id": "cf61c2cb-c7dc-4e69-b579-38b33a4fbdd0",
   "metadata": {},
   "outputs": [],
   "source": [
    "movies_df"
   ]
  },
  {
   "cell_type": "code",
   "execution_count": null,
   "id": "59b8afda-fe03-495d-bcd2-be5a3ce23e43",
   "metadata": {},
   "outputs": [],
   "source": [
    "def extract_from_tagline(x):\n",
    "    t = []\n",
    "    for i in x.split():\n",
    "        t.append(i)\n",
    "    \n",
    "    return t\n",
    "movies_df['tagline'] = movies_df['tagline'].apply(extract_from_tagline)\n",
    "movies_df['tagline']"
   ]
  },
  {
   "cell_type": "code",
   "execution_count": null,
   "id": "0e56cc93-1757-4738-a612-3a44492339be",
   "metadata": {},
   "outputs": [],
   "source": [
    "def extract_from_keywords(x):\n",
    "        t = []\n",
    "        for j in ast.literal_eval(x):\n",
    "            try:\n",
    "                t.append(j['name'])\n",
    "            except:\n",
    "                pass\n",
    "        return t\n",
    "movies_df['keywords'] = movies_df['keywords'].apply(extract_from_keywords)\n",
    "movies_df['keywords']"
   ]
  },
  {
   "cell_type": "code",
   "execution_count": null,
   "id": "05b4095f-63b7-48e5-9607-3e3f7b00046d",
   "metadata": {},
   "outputs": [],
   "source": [
    "def extract_from_cast(x):\n",
    "        t = []\n",
    "        for j in ast.literal_eval(x):\n",
    "            try:\n",
    "                t.append(j['name'])\n",
    "            except:\n",
    "                pass\n",
    "        return t\n",
    "movies_df['cast'] = movies_df['cast'].apply(extract_from_keywords)\n",
    "movies_df['cast']"
   ]
  },
  {
   "cell_type": "code",
   "execution_count": null,
   "id": "00f2ec23-5746-4a8c-8c45-3058dc15e819",
   "metadata": {},
   "outputs": [],
   "source": [
    "# def extract_from_crew(x):\n",
    "#         t = []\n",
    "#         for j in ast.literal_eval(x):\n",
    "#             try:\n",
    "#                 t.append(j['name'])\n",
    "#             except:\n",
    "#                 pass\n",
    "#         return t\n",
    "# movies_df['crew'] = movies_df['crew'].apply(extract_from_crew)\n",
    "# movies_df['crew']"
   ]
  },
  {
   "cell_type": "code",
   "execution_count": null,
   "id": "810ba28b-54b9-45e2-85ac-bd20236e59bc",
   "metadata": {},
   "outputs": [],
   "source": [
    "del movies_df['crew']"
   ]
  },
  {
   "cell_type": "code",
   "execution_count": null,
   "id": "8959636f-e74f-454f-a2a7-2fbf1b1491ba",
   "metadata": {},
   "outputs": [],
   "source": [
    "movies_df.iloc[1]['title']"
   ]
  },
  {
   "cell_type": "code",
   "execution_count": null,
   "id": "04f787e3-8ea1-4eaa-8b10-50829944fd1f",
   "metadata": {},
   "outputs": [],
   "source": [
    "import re\n",
    "\n",
    "def combine_text():\n",
    "    columns = ['original_title','overview','spoken_languages','tagline','keywords', 'cast']\n",
    "    final = []\n",
    "    for i in range(len(movies_df)):\n",
    "        t = \"\"\n",
    "        for col in columns:\n",
    "            for m in movies_df.iloc[i][col]:\n",
    "                t += ' '+m.lower()\n",
    "            \n",
    "        final.append(t)\n",
    "    return final\n",
    "\n",
    "movies_df['metadata'] = pd.Series(combine_text())"
   ]
  },
  {
   "cell_type": "code",
   "execution_count": null,
   "id": "cfc2da5f-8ae9-446d-aa85-761807a905ec",
   "metadata": {},
   "outputs": [],
   "source": [
    "combined = combine_text()"
   ]
  },
  {
   "cell_type": "code",
   "execution_count": null,
   "id": "54dd347a-b63f-46ee-a546-def5949ab22e",
   "metadata": {},
   "outputs": [],
   "source": [
    "pd.Series(movies_df.index)"
   ]
  },
  {
   "cell_type": "code",
   "execution_count": null,
   "id": "909a3002-84ab-4201-b154-6de9e3b063d0",
   "metadata": {
    "scrolled": true,
    "tags": []
   },
   "outputs": [],
   "source": [
    "new_df = pd.DataFrame(pd.Series(movies_df.index).values,pd.Series(combined))"
   ]
  },
  {
   "cell_type": "code",
   "execution_count": null,
   "id": "9211cceb-7dc7-4fed-8eec-02c1f2a96133",
   "metadata": {},
   "outputs": [],
   "source": [
    "new_df = new_df.reset_index()"
   ]
  },
  {
   "cell_type": "code",
   "execution_count": null,
   "id": "3b6b95bb-0438-4270-beb3-6e0d34da06c2",
   "metadata": {},
   "outputs": [],
   "source": [
    "new_df = new_df.rename(columns={0:'id','index':'metadata'})"
   ]
  },
  {
   "cell_type": "code",
   "execution_count": null,
   "id": "b6950289-b56b-4c9f-888c-f3a6b5e755a5",
   "metadata": {},
   "outputs": [],
   "source": [
    "new_df"
   ]
  },
  {
   "cell_type": "code",
   "execution_count": null,
   "id": "e446188d-e629-4022-8ead-540133e72b5a",
   "metadata": {},
   "outputs": [],
   "source": [
    "del movies_df['metadata']"
   ]
  },
  {
   "cell_type": "code",
   "execution_count": null,
   "id": "935b4c08-b8b7-498f-afac-f3add80d6799",
   "metadata": {},
   "outputs": [],
   "source": [
    "movies_df = pd.merge(new_df, movies_df, on='id', how='inner')\n",
    "movies_df.drop(columns=['original_title','overview','spoken_languages','tagline','keywords', 'cast'], inplace=True)"
   ]
  },
  {
   "cell_type": "code",
   "execution_count": null,
   "id": "25ad0458-9a3d-410b-8c78-4ba22a5e06b7",
   "metadata": {},
   "outputs": [],
   "source": [
    "movies_df.set_index('id', inplace=True)"
   ]
  },
  {
   "cell_type": "code",
   "execution_count": null,
   "id": "71972022-51b7-4f27-b1e9-7b3ae6171e1d",
   "metadata": {},
   "outputs": [],
   "source": [
    "movies_df.info()"
   ]
  },
  {
   "cell_type": "code",
   "execution_count": null,
   "id": "8eeac3ce-dc0e-4144-966a-98090b88f13e",
   "metadata": {},
   "outputs": [],
   "source": [
    "movies_df = movies_df.loc[~movies_df.index.duplicated(keep='first')]"
   ]
  },
  {
   "cell_type": "code",
   "execution_count": null,
   "id": "374e4e40-aef9-4636-9f39-0a538fdd546d",
   "metadata": {},
   "outputs": [],
   "source": [
    "del movies_df['title']"
   ]
  },
  {
   "cell_type": "code",
   "execution_count": null,
   "id": "96e58e70-5c51-48e3-a522-6bda9a0127ad",
   "metadata": {},
   "outputs": [],
   "source": [
    "copy_mdf = movies_df.copy()"
   ]
  },
  {
   "cell_type": "code",
   "execution_count": null,
   "id": "e8e8d298-453b-4c3d-a4a9-d6a54b5b2349",
   "metadata": {},
   "outputs": [],
   "source": [
    "movies_df.head()"
   ]
  },
  {
   "cell_type": "code",
   "execution_count": null,
   "id": "0db75523-5011-42c9-97f9-4e8eb231b99b",
   "metadata": {},
   "outputs": [],
   "source": [
    "movies_df = movies_df.reset_index()"
   ]
  },
  {
   "cell_type": "code",
   "execution_count": null,
   "id": "cecc3343-9208-4aef-8454-24da9bd38c2f",
   "metadata": {},
   "outputs": [],
   "source": [
    "del movies_df['id']"
   ]
  },
  {
   "cell_type": "code",
   "execution_count": null,
   "id": "71164e12-9af2-44d2-8493-ae2d37bc7c28",
   "metadata": {},
   "outputs": [],
   "source": [
    "movies_df['original_language']"
   ]
  },
  {
   "cell_type": "code",
   "execution_count": null,
   "id": "5bb2562b-d9e4-4750-a20a-336b66dcdea2",
   "metadata": {},
   "outputs": [],
   "source": [
    "copy_df = movies_df.copy()"
   ]
  },
  {
   "cell_type": "code",
   "execution_count": null,
   "id": "0e77f668-ec21-4c98-8197-c1b3fb23e640",
   "metadata": {},
   "outputs": [],
   "source": [
    "movies_df = copy_df.copy()"
   ]
  },
  {
   "cell_type": "code",
   "execution_count": null,
   "id": "24424046-aa04-4e99-a7f8-9f9be9ced926",
   "metadata": {},
   "outputs": [],
   "source": [
    "movies_df = copy_mdf.copy()"
   ]
  },
  {
   "cell_type": "code",
   "execution_count": null,
   "id": "9693f0ee-8c3e-43ac-888e-ebcd59363998",
   "metadata": {
    "scrolled": true,
    "tags": []
   },
   "outputs": [],
   "source": [
    "unique_genre_set = set()\n",
    "def unique_genre():\n",
    "    for i in movies_df['genres'].values:\n",
    "        for j in i:\n",
    "            unique_genre_set.add(j)\n",
    "unique_genre()\n",
    "def convert_genres():\n",
    "\n",
    "    hash_size = len(unique_genre_set)  # number of hash values to use\n",
    "    def convert_to_hash(x):\n",
    "        t = []\n",
    " \n",
    "        for i in x:\n",
    "            t.append(int(hashlib.sha256(i.encode('utf-8')).hexdigest(), 16) % hash_size)\n",
    "        return t\n",
    "    \n",
    "    movies_df['genres'] = movies_df['genres'].apply(convert_to_hash)\n",
    "    max_length = 0\n",
    "    final = []\n",
    "    for i in movies_df['genres'].values:\n",
    "        if len(i) > max_length:\n",
    "            max_length = len(i)\n",
    "    for j,i in enumerate(movies_df['genres'].values):\n",
    "        final.append(np.pad(i, (0, max_length - len(i)), mode = 'constant', constant_values=0.0))\n",
    "    return final\n",
    "te = convert_genres()\n",
    "te"
   ]
  },
  {
   "cell_type": "code",
   "execution_count": null,
   "id": "2381bc7c-6317-4f3f-92a2-347308c444a3",
   "metadata": {
    "scrolled": true,
    "tags": []
   },
   "outputs": [],
   "source": [
    "unique_prod_company_set = set()\n",
    "def unique_prod_compny():\n",
    "    for i in movies_df['production_companies'].values:\n",
    "        for j in i:\n",
    "            unique_prod_company_set.add(j)\n",
    "unique_prod_compny()\n",
    "\n",
    "def convert_prod_comapny():\n",
    "\n",
    "    hash_size = len(unique_prod_company_set)  # number of hash values to use\n",
    "    print(hash_size)\n",
    "    def convert_to_hash(x):\n",
    "        t = []\n",
    " \n",
    "        for i in x:\n",
    "            t.append(int(hashlib.sha256(i.encode('utf-8')).hexdigest(), 16) % hash_size)\n",
    "        return t\n",
    "    \n",
    "    movies_df['production_companies'] = movies_df['production_companies'].apply(convert_to_hash)\n",
    "    max_length = 0\n",
    "    final = []\n",
    "    for i in movies_df['production_companies'].values:\n",
    "        if len(i) > max_length:\n",
    "            max_length = len(i)\n",
    "    print(max_length)\n",
    "    for j,i in enumerate(movies_df['production_companies'].values):\n",
    "        final.append(np.pad(i, (0, max_length - len(i)), mode = 'constant', constant_values=0.0))\n",
    "    return final\n",
    "te_prod_comapny = convert_prod_comapny()\n",
    "te_prod_comapny"
   ]
  },
  {
   "cell_type": "code",
   "execution_count": null,
   "id": "7357986b-391e-4ade-91af-424234cef857",
   "metadata": {},
   "outputs": [],
   "source": [
    "prod_comapny_df = pd.DataFrame(np.array(te_prod_comapny))"
   ]
  },
  {
   "cell_type": "code",
   "execution_count": null,
   "id": "fec8435c-4840-4f15-b042-c836feb4390c",
   "metadata": {},
   "outputs": [],
   "source": [
    "prod_comapny_df.head()"
   ]
  },
  {
   "cell_type": "code",
   "execution_count": null,
   "id": "26e90c8d-3d01-4500-a87b-dcc4e020c694",
   "metadata": {},
   "outputs": [],
   "source": [
    "unique_prod_country_set = set()\n",
    "def unique_prod_country():\n",
    "    for i in movies_df['production_countries'].values:\n",
    "        for j in i:\n",
    "            unique_prod_country_set.add(j)\n",
    "unique_prod_country()\n",
    "\n",
    "def convert_prod_country():\n",
    "\n",
    "    hash_size = len(unique_prod_country_set)  # number of hash values to use\n",
    "    print(hash_size)\n",
    "    def convert_to_hash(x):\n",
    "        t = []\n",
    " \n",
    "        for i in x:\n",
    "            t.append(int(hashlib.sha256(i.encode('utf-8')).hexdigest(), 16) % hash_size)\n",
    "        return t\n",
    "    \n",
    "    movies_df['production_countries'] = movies_df['production_countries'].apply(convert_to_hash)\n",
    "    max_length = 0\n",
    "    final = []\n",
    "    for i in movies_df['production_countries'].values:\n",
    "        if len(i) > max_length:\n",
    "            max_length = len(i)\n",
    "    print(max_length)\n",
    "    for j,i in enumerate(movies_df['production_countries'].values):\n",
    "        final.append(np.pad(i, (0, max_length - len(i)), mode = 'constant', constant_values=0.0))\n",
    "    return final\n",
    "te_prod_country = convert_prod_country()\n"
   ]
  },
  {
   "cell_type": "code",
   "execution_count": null,
   "id": "b433f3bf-88a4-43e4-842b-d6d450984810",
   "metadata": {},
   "outputs": [],
   "source": [
    "prod_country_df = pd.DataFrame(np.array(te_prod_country))"
   ]
  },
  {
   "cell_type": "code",
   "execution_count": null,
   "id": "c85b3e75-27a2-4d15-a0bc-14c9d734867b",
   "metadata": {},
   "outputs": [],
   "source": [
    "prod_country_df.head()"
   ]
  },
  {
   "cell_type": "code",
   "execution_count": null,
   "id": "2c140794-709f-410c-bd11-9aa5539de9f7",
   "metadata": {},
   "outputs": [],
   "source": [
    "from tqdm.notebook import tqdm\n",
    "def convert_to_string():\n",
    "    list_to_convert = ['genres']\n",
    "    for i in list_to_convert:\n",
    "        final = []\n",
    "        for j in tqdm(movies_df[i].values):\n",
    "            t = \"\"\n",
    "            for k in j:\n",
    "                t += ' '+k\n",
    "            final.append(t)\n",
    "        movies_df[i] = pd.Series(final)\n",
    "    \n",
    "convert_to_string()\n",
    "    "
   ]
  },
  {
   "cell_type": "code",
   "execution_count": null,
   "id": "cb833407-f5ed-4530-bcf7-a393f49d4b92",
   "metadata": {},
   "outputs": [],
   "source": [
    "import datetime\n",
    "def format_datetime(x):\n",
    "    return datetime.datetime.strptime(x.split()[0], '%Y-%m-%d').date().year\n",
    "movies_df['release_date'] = movies_df['release_date'].apply(format_datetime)"
   ]
  },
  {
   "cell_type": "code",
   "execution_count": null,
   "id": "7f067abe-5094-48af-bd77-92a72792da9a",
   "metadata": {},
   "outputs": [],
   "source": [
    "movies_df\n",
    "del movies_df['title']"
   ]
  },
  {
   "cell_type": "code",
   "execution_count": null,
   "id": "3f5bd0d8-aefb-4fea-a11c-6cac3b158f75",
   "metadata": {},
   "outputs": [],
   "source": [
    "movies_df"
   ]
  },
  {
   "cell_type": "code",
   "execution_count": null,
   "id": "134d0c4a-a092-4fbc-bd04-fce32e69d133",
   "metadata": {},
   "outputs": [],
   "source": [
    "import gensim.downloader as api\n",
    "model = api.load(\"word2vec-google-news-300\")"
   ]
  },
  {
   "cell_type": "code",
   "execution_count": null,
   "id": "6e45eef1-3158-44e9-92d6-0ff185b940ae",
   "metadata": {},
   "outputs": [],
   "source": [
    "vector = model.get_vector('apple')\n",
    "print(vector.shape)"
   ]
  },
  {
   "cell_type": "code",
   "execution_count": null,
   "id": "90cee8ab-c8e5-4fc4-9506-acf7c592a0a5",
   "metadata": {},
   "outputs": [],
   "source": [
    "from tqdm.notebook import tqdm\n",
    "import itertools\n",
    "import pickle\n",
    "def convert_to_vector_metadata():\n",
    "    final = []\n",
    "    for i in movies_df['metadata'].values:\n",
    "        t = []\n",
    "        for j in i.split()[:100]:\n",
    "            try:\n",
    "                t.append(model.get_vector(j.lower()))\n",
    "            except:\n",
    "                pass\n",
    "        final.append(t)\n",
    "    max_length = 0\n",
    "    for i in final:\n",
    "        if len(i) > max_length:\n",
    "            max_length = len(i)\n",
    "\n",
    "        \n",
    "    max_length *= 300\n",
    "\n",
    "    padded_sequences = []\n",
    "    for i in final:\n",
    "\n",
    "        padded_sequences.append((np.pad(np.array(i).flatten(), (0, max_length - len(np.array(i).flatten())), mode='constant', constant_values=0.0)))\n",
    "        \n",
    "        \n",
    "\n",
    "    return padded_sequences\n",
    "\n",
    "\n",
    "temp = convert_to_vector_metadata()\n"
   ]
  },
  {
   "cell_type": "code",
   "execution_count": null,
   "id": "332f2a72-f486-41f1-88f9-f2947a9cea16",
   "metadata": {},
   "outputs": [],
   "source": [
    "np.asarray(temp).shape"
   ]
  },
  {
   "cell_type": "code",
   "execution_count": null,
   "id": "5c056065-5f2d-4dea-915d-2dc6a4693657",
   "metadata": {
    "scrolled": true,
    "tags": []
   },
   "outputs": [],
   "source": []
  },
  {
   "cell_type": "code",
   "execution_count": null,
   "id": "7b8d3162-f8e4-491c-b887-9c2c21d59a2c",
   "metadata": {},
   "outputs": [],
   "source": []
  },
  {
   "cell_type": "code",
   "execution_count": null,
   "id": "f5e3cac5-50a1-41d9-978d-96f56bd03072",
   "metadata": {},
   "outputs": [],
   "source": []
  },
  {
   "cell_type": "code",
   "execution_count": null,
   "id": "3b0061ae-704f-4e7e-a51e-5a5f000791cf",
   "metadata": {},
   "outputs": [],
   "source": []
  },
  {
   "cell_type": "code",
   "execution_count": null,
   "id": "adb70f79-1926-4b83-abef-f17bee26c153",
   "metadata": {},
   "outputs": [],
   "source": []
  },
  {
   "cell_type": "code",
   "execution_count": null,
   "id": "0564ae11-0451-44eb-a742-211f9ba62d59",
   "metadata": {},
   "outputs": [],
   "source": []
  },
  {
   "cell_type": "code",
   "execution_count": null,
   "id": "5176acee-bc63-429c-b4ea-60766bc8788f",
   "metadata": {},
   "outputs": [],
   "source": []
  },
  {
   "cell_type": "code",
   "execution_count": null,
   "id": "99942b33-9ee8-478b-815f-f3c59910ebe8",
   "metadata": {},
   "outputs": [],
   "source": []
  },
  {
   "cell_type": "code",
   "execution_count": null,
   "id": "ea902cbb-834c-4752-bc95-91affd57cb18",
   "metadata": {},
   "outputs": [],
   "source": [
    "metadta_df = pd.DataFrame(np.asarray(temp))"
   ]
  },
  {
   "cell_type": "code",
   "execution_count": null,
   "id": "78609bf0-1d40-4870-b4a3-1150b0b97e99",
   "metadata": {},
   "outputs": [],
   "source": [
    "metadta_df.head()"
   ]
  },
  {
   "cell_type": "code",
   "execution_count": null,
   "id": "780cc0d7-a4fa-46fa-bf1a-83ef93c06a54",
   "metadata": {},
   "outputs": [],
   "source": [
    "\n",
    "\n",
    "metadta_df.head()"
   ]
  },
  {
   "cell_type": "code",
   "execution_count": null,
   "id": "a70cc914-b0a7-41a4-94b6-b4e63621d31e",
   "metadata": {},
   "outputs": [],
   "source": [
    "genre_df.head()"
   ]
  },
  {
   "cell_type": "code",
   "execution_count": null,
   "id": "03b5b5ba-c789-43ff-8b13-a723bab199fb",
   "metadata": {},
   "outputs": [],
   "source": [
    "prod_comapny_df.head()"
   ]
  },
  {
   "cell_type": "code",
   "execution_count": null,
   "id": "993f57a1-0fe5-4ea3-a6ff-e896b2460e60",
   "metadata": {},
   "outputs": [],
   "source": [
    "\n",
    "prod_country_df.head()"
   ]
  },
  {
   "cell_type": "code",
   "execution_count": null,
   "id": "c9871e97-1189-4e6e-8783-2cd3fdff0da5",
   "metadata": {},
   "outputs": [],
   "source": [
    "movies_df.drop(coalumns=['metadata','genres','production_companies','production_countries'], inplace=True)"
   ]
  },
  {
   "cell_type": "code",
   "execution_count": null,
   "id": "aa5e34dd-852b-4650-87fd-9868e071d8cd",
   "metadata": {},
   "outputs": [],
   "source": [
    "movies_df = movies_df.reset_index().drop(columns=['id'])"
   ]
  },
  {
   "cell_type": "code",
   "execution_count": null,
   "id": "687f7e2c-eee0-4890-9a34-6e9e192de8b8",
   "metadata": {},
   "outputs": [],
   "source": [
    "movies_df"
   ]
  },
  {
   "cell_type": "code",
   "execution_count": null,
   "id": "34a13ebb-8f65-44db-8b87-46403f6e7e15",
   "metadata": {},
   "outputs": [],
   "source": [
    "merge_1 = pd.merge(movies_df, metadta_df, left_index=True, right_index=True)"
   ]
  },
  {
   "cell_type": "code",
   "execution_count": null,
   "id": "80fd6459-0639-49d6-b9f3-d0f853018745",
   "metadata": {},
   "outputs": [],
   "source": [
    "merge_2 = pd.merge(merge_1, genre_df, left_index=True, right_index=True)"
   ]
  },
  {
   "cell_type": "code",
   "execution_count": null,
   "id": "a9004834-d645-49e3-93a9-b4888802becc",
   "metadata": {},
   "outputs": [],
   "source": [
    "merge_3 = pd.merge(merge_2, prod_comapny_df, left_index=True, right_index=True)"
   ]
  },
  {
   "cell_type": "code",
   "execution_count": null,
   "id": "3f91cbbf-2ccc-43e1-b2f7-3f328559f734",
   "metadata": {},
   "outputs": [],
   "source": [
    "merge_4 = pd.merge(merge_3, prod_country_df, left_index=True, right_index=True)"
   ]
  },
  {
   "cell_type": "code",
   "execution_count": null,
   "id": "c7467f0f-073c-4aa6-a42b-72265666354b",
   "metadata": {},
   "outputs": [],
   "source": [
    "movies_df = merge_1"
   ]
  },
  {
   "cell_type": "code",
   "execution_count": null,
   "id": "8da5849a-1190-4655-a24d-29e6a4f1e295",
   "metadata": {},
   "outputs": [],
   "source": [
    "pd.mergmovies_df"
   ]
  },
  {
   "cell_type": "code",
   "execution_count": null,
   "id": "14f605f7-0a15-4e32-9d70-fae0562a41d3",
   "metadata": {},
   "outputs": [],
   "source": [
    "final_df = pd.concat([movies_df, genre_df, prod_comapny_df,prod_country_df], axis=1)"
   ]
  },
  {
   "cell_type": "code",
   "execution_count": null,
   "id": "a5dfdee1-e383-41ae-b9c0-0c2d54190ba0",
   "metadata": {},
   "outputs": [],
   "source": [
    "final_df.to_csv('final_df.csv')"
   ]
  },
  {
   "cell_type": "code",
   "execution_count": null,
   "id": "e324ab51-a9b6-4ce4-8ea2-ed1e01114fb6",
   "metadata": {},
   "outputs": [],
   "source": [
    "import pandas as pd\n",
    "final_df = pd.read_csv('final_df.csv')"
   ]
  },
  {
   "cell_type": "code",
   "execution_count": null,
   "id": "0863bbba-49df-4c9e-a8b6-8bcb2a3432f8",
   "metadata": {},
   "outputs": [],
   "source": [
    "new_columns = [f'new_col{i}' for i in range(len(final_df.columns))]\n",
    "\n",
    "# use the rename method with a dictionary comprehension to change the column names\n",
    "final_df = final_df.rename(columns={final_df.columns[i]: new_columns[i] for i in range(len(final_df.columns))})"
   ]
  },
  {
   "cell_type": "code",
   "execution_count": null,
   "id": "649114f4-4f84-46d3-b459-afa6efbea9d0",
   "metadata": {},
   "outputs": [],
   "source": [
    "final_df.head()"
   ]
  },
  {
   "cell_type": "code",
   "execution_count": null,
   "id": "0fab839e-6fe5-42bf-a216-704c48a7644d",
   "metadata": {},
   "outputs": [],
   "source": [
    "from sklearn.cluster import KMeans\n",
    "kmeans=KMeans(n_clusters=6,init='k-means++',max_iter=500).fit(final_df)"
   ]
  },
  {
   "cell_type": "code",
   "execution_count": null,
   "id": "327f4fa2-2f4e-4132-bc3a-ff0015c62dea",
   "metadata": {},
   "outputs": [],
   "source": [
    "final_df['KmeansCluster']=kmeans.labels_\n",
    "\n",
    "print(\"Cluster 0: \",final_df[final_df['KmeansCluster']==0].KmeansCluster.count())\n",
    "print(\"Cluster 1: \",final_df[final_df['KmeansCluster']==1].KmeansCluster.count())\n",
    "print(\"Cluster 2: \",final_df[final_df['KmeansCluster']==2].KmeansCluster.count())\n",
    "print(\"Cluster 3: \",final_df[final_df['KmeansCluster']==3].KmeansCluster.count())\n",
    "print(\"Cluster 4: \",final_df[final_df['KmeansCluster']==4].KmeansCluster.count())\n",
    "print(\"Cluster 5: \",final_df[final_df['KmeansCluster']==5].KmeansCluster.count())"
   ]
  },
  {
   "cell_type": "code",
   "execution_count": null,
   "id": "ae6bbc29-1019-4557-b3fe-c71cb59841e0",
   "metadata": {},
   "outputs": [],
   "source": [
    "movies_pred = pd.read_csv(\"movies_nonnull.csv\")\n",
    "movies_pred = movies_pred.iloc[:8000,:]"
   ]
  },
  {
   "cell_type": "code",
   "execution_count": null,
   "id": "b68a2945-8d29-40df-a9b0-2ffa6a041a73",
   "metadata": {},
   "outputs": [],
   "source": [
    "movies_pred = movies_pred.reset_index()"
   ]
  },
  {
   "cell_type": "code",
   "execution_count": null,
   "id": "718fa20a-6345-4454-8508-b43caefda003",
   "metadata": {},
   "outputs": [],
   "source": [
    "movies_pred.drop(columns=['index','id'], inplace=True)"
   ]
  },
  {
   "cell_type": "code",
   "execution_count": null,
   "id": "4e4b26bd-e907-4246-90c9-0cda291470d6",
   "metadata": {},
   "outputs": [],
   "source": [
    "movies_pred[movies_pred['title']== 'Independence Day']"
   ]
  },
  {
   "cell_type": "code",
   "execution_count": null,
   "id": "a387874e-fe79-465b-a673-d022fde9facb",
   "metadata": {},
   "outputs": [],
   "source": [
    "movies_pred.head()"
   ]
  },
  {
   "cell_type": "code",
   "execution_count": null,
   "id": "b15f2f8a-ac1a-404e-bbb4-62007fc9796b",
   "metadata": {},
   "outputs": [],
   "source": [
    "final_df.head()"
   ]
  },
  {
   "cell_type": "code",
   "execution_count": null,
   "id": "f664010f-0cb5-4a65-8674-9b455452ff6c",
   "metadata": {},
   "outputs": [],
   "source": [
    "kmeans.predict(final_df.iloc[760,:-1].to_numpy().reshape(1,-1))"
   ]
  },
  {
   "cell_type": "code",
   "execution_count": null,
   "id": "5398f191-c91b-42ef-9102-19b4afdf90db",
   "metadata": {},
   "outputs": [],
   "source": [
    "final_df.iloc[475,:-1]"
   ]
  },
  {
   "cell_type": "code",
   "execution_count": null,
   "id": "5df00214-c1e5-449b-927c-fff17091f1f2",
   "metadata": {},
   "outputs": [],
   "source": [
    "pred = (final_df[final_df['KmeansCluster']==3].index.to_list())"
   ]
  },
  {
   "cell_type": "code",
   "execution_count": null,
   "id": "43c69dcc-9586-432c-a4dc-28e9921954a3",
   "metadata": {},
   "outputs": [],
   "source": [
    "for i in pred[:10]:\n",
    "    print(movies_pred.iloc[i]['title'])"
   ]
  },
  {
   "cell_type": "code",
   "execution_count": null,
   "id": "468c8a1c-0dcd-4c31-9ac6-b3b03daeaca9",
   "metadata": {},
   "outputs": [],
   "source": []
  }
 ],
 "metadata": {
  "kernelspec": {
   "display_name": "recommendation",
   "language": "python",
   "name": "venv"
  },
  "language_info": {
   "codemirror_mode": {
    "name": "ipython",
    "version": 3
   },
   "file_extension": ".py",
   "mimetype": "text/x-python",
   "name": "python",
   "nbconvert_exporter": "python",
   "pygments_lexer": "ipython3",
   "version": "3.8.6"
  }
 },
 "nbformat": 4,
 "nbformat_minor": 5
}
